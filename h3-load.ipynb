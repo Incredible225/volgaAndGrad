{
 "cells": [
  {
   "cell_type": "code",
   "execution_count": 1,
   "id": "08e6d343",
   "metadata": {},
   "outputs": [
    {
     "name": "stdout",
     "output_type": "stream",
     "text": [
      "Collecting h3\n",
      "  Downloading h3-3.7.4-cp39-cp39-manylinux_2_17_x86_64.manylinux2014_x86_64.whl (1.1 MB)\n",
      "\u001b[2K     \u001b[90m━━━━━━━━━━━━━━━━━━━━━━━━━━━━━━━━━━━━━━━━\u001b[0m \u001b[32m1.1/1.1 MB\u001b[0m \u001b[31m199.4 kB/s\u001b[0m eta \u001b[36m0:00:00\u001b[0m00:01\u001b[0m00:01\u001b[0m\n",
      "\u001b[?25hInstalling collected packages: h3\n",
      "Successfully installed h3-3.7.4\n",
      "\u001b[33mWARNING: Running pip as the 'root' user can result in broken permissions and conflicting behaviour with the system package manager. It is recommended to use a virtual environment instead: https://pip.pypa.io/warnings/venv\u001b[0m\u001b[33m\n",
      "\u001b[0m\u001b[33mWARNING: You are using pip version 22.0.4; however, version 22.2.2 is available.\n",
      "You should consider upgrading via the '/root/miniconda3/bin/python -m pip install --upgrade pip' command.\u001b[0m\u001b[33m\n",
      "\u001b[0m"
     ]
    }
   ],
   "source": [
    "!pip install  h3"
   ]
  },
  {
   "cell_type": "code",
   "execution_count": 2,
   "id": "110652ac",
   "metadata": {},
   "outputs": [
    {
     "name": "stdout",
     "output_type": "stream",
     "text": [
      "Collecting pandarallel\n",
      "  Downloading pandarallel-1.6.2.tar.gz (12 kB)\n",
      "  Preparing metadata (setup.py) ... \u001b[?25ldone\n",
      "\u001b[?25hCollecting dill>=0.3.1\n",
      "  Downloading dill-0.3.5.1-py2.py3-none-any.whl (95 kB)\n",
      "\u001b[2K     \u001b[90m━━━━━━━━━━━━━━━━━━━━━━━━━━━━━━━━━━━━━━━\u001b[0m \u001b[32m95.8/95.8 KB\u001b[0m \u001b[31m203.1 kB/s\u001b[0m eta \u001b[36m0:00:00\u001b[0ma \u001b[36m0:00:01\u001b[0m\n",
      "\u001b[?25hRequirement already satisfied: pandas>=1 in /root/miniconda3/lib/python3.9/site-packages (from pandarallel) (1.3.5)\n",
      "Requirement already satisfied: psutil in /root/miniconda3/lib/python3.9/site-packages (from pandarallel) (5.9.0)\n",
      "Requirement already satisfied: python-dateutil>=2.7.3 in /root/miniconda3/lib/python3.9/site-packages (from pandas>=1->pandarallel) (2.8.2)\n",
      "Requirement already satisfied: pytz>=2017.3 in /root/miniconda3/lib/python3.9/site-packages (from pandas>=1->pandarallel) (2022.1)\n",
      "Requirement already satisfied: numpy>=1.17.3 in /root/miniconda3/lib/python3.9/site-packages (from pandas>=1->pandarallel) (1.21.5)\n",
      "Requirement already satisfied: six>=1.5 in /root/miniconda3/lib/python3.9/site-packages (from python-dateutil>=2.7.3->pandas>=1->pandarallel) (1.16.0)\n",
      "Building wheels for collected packages: pandarallel\n",
      "  Building wheel for pandarallel (setup.py) ... \u001b[?25ldone\n",
      "\u001b[?25h  Created wheel for pandarallel: filename=pandarallel-1.6.2-py3-none-any.whl size=16411 sha256=edebde539fb2e76077960a63cef8a1d038b6c636bdd476f16d88b4e334b7c2dc\n",
      "  Stored in directory: /root/.cache/pip/wheels/ae/c6/3c/534c2f44892fa82dd75f033b56fdd74db1c665f626363d319d\n",
      "Successfully built pandarallel\n",
      "Installing collected packages: dill, pandarallel\n",
      "Successfully installed dill-0.3.5.1 pandarallel-1.6.2\n",
      "\u001b[33mWARNING: Running pip as the 'root' user can result in broken permissions and conflicting behaviour with the system package manager. It is recommended to use a virtual environment instead: https://pip.pypa.io/warnings/venv\u001b[0m\u001b[33m\n",
      "\u001b[0m\u001b[33mWARNING: You are using pip version 22.0.4; however, version 22.2.2 is available.\n",
      "You should consider upgrading via the '/root/miniconda3/bin/python -m pip install --upgrade pip' command.\u001b[0m\u001b[33m\n",
      "\u001b[0m"
     ]
    }
   ],
   "source": [
    "!pip install pandarallel"
   ]
  },
  {
   "cell_type": "code",
   "execution_count": null,
   "id": "daf31834",
   "metadata": {},
   "outputs": [],
   "source": []
  },
  {
   "cell_type": "code",
   "execution_count": 3,
   "id": "5b789045",
   "metadata": {},
   "outputs": [],
   "source": [
    "import h3\n"
   ]
  },
  {
   "cell_type": "code",
   "execution_count": 4,
   "id": "199b4afa",
   "metadata": {},
   "outputs": [],
   "source": [
    "import pandas as pd\n",
    "import matplotlib.pyplot as plt\n",
    "from sklearn.model_selection import train_test_split\n",
    "from sklearn.ensemble import RandomForestClassifier\n",
    "import pandas as pd\n",
    "import requests\n",
    "import os\n",
    "from tqdm import tqdm\n",
    "tqdm.pandas()\n",
    "\n"
   ]
  },
  {
   "cell_type": "code",
   "execution_count": 5,
   "id": "c05b9d25",
   "metadata": {},
   "outputs": [
    {
     "name": "stdout",
     "output_type": "stream",
     "text": [
      "INFO: Pandarallel will run on 40 workers.\n",
      "INFO: Pandarallel will use standard multiprocessing data transfer (pipe) to transfer data between the main process and workers.\n"
     ]
    }
   ],
   "source": [
    "from pandarallel import pandarallel\n",
    "os.environ['JOBLIB_TEMP_FOLDER'] = '/tmp'\n",
    "pandarallel.initialize(nb_workers=40,progress_bar=True,verbose=2,use_memory_fs = False )"
   ]
  },
  {
   "cell_type": "code",
   "execution_count": 6,
   "id": "4c8f567b",
   "metadata": {},
   "outputs": [
    {
     "name": "stdout",
     "output_type": "stream",
     "text": [
      "MPLBACKEND=module://matplotlib_inline.backend_inline\r\n",
      "HOSTNAME=k8s-master1.dmosk.local\r\n",
      "LD_LIBRARY_PATH=/usr/local/cuda/extras/CUPTI/lib64:/usr/local/cuda/lib64:/usr/include/x64_64-linux-gnu:/usr/local/nvidia/lib:/usr/local/nvidia/lib64\r\n",
      "HOME=/root\r\n",
      "PAGER=cat\r\n",
      "CUDA_VERSION=10.1.243\r\n",
      "NVIDIA_REQUIRE_CUDA=cuda>=10.1 brand=tesla,driver>=384,driver<385 brand=tesla,driver>=396,driver<397 brand=tesla,driver>=410,driver<411\r\n",
      "NVIDIA_DRIVER_CAPABILITIES=compute,utility\r\n",
      "TERM=xterm-color\r\n",
      "PATH=/root/miniconda3/bin:/usr/local/nvidia/bin:/usr/local/cuda/bin:/usr/local/sbin:/usr/local/bin:/usr/sbin:/usr/bin:/sbin:/bin\r\n",
      "CUDA_PKG_VERSION=10-1=10.1.243-1\r\n",
      "KMP_DUPLICATE_LIB_OK=True\r\n",
      "KMP_INIT_AT_FORK=FALSE\r\n",
      "LANG=C.UTF-8\r\n",
      "JOBLIB_TEMP_FOLDER=/tmp\r\n",
      "GIT_PAGER=cat\r\n",
      "PWD=/root/work/Hakaton/champ-volg\r\n",
      "CLICOLOR=1\r\n",
      "JPY_PARENT_PID=7\r\n",
      "PYDEVD_USE_FRAME_EVAL=NO\r\n",
      "NVIDIA_VISIBLE_DEVICES=all\r\n"
     ]
    }
   ],
   "source": [
    "!env JOBLIB_TEMP_FOLDER=/tmp"
   ]
  },
  {
   "cell_type": "code",
   "execution_count": null,
   "id": "34b33935",
   "metadata": {},
   "outputs": [],
   "source": [
    "data = pd.read_pickle(\"./data.pkl\").reset_index(drop=True)\n",
    "data=data.fillna('')"
   ]
  },
  {
   "cell_type": "code",
   "execution_count": null,
   "id": "2340707b",
   "metadata": {},
   "outputs": [],
   "source": [
    "data['type'].unique()"
   ]
  },
  {
   "cell_type": "code",
   "execution_count": null,
   "id": "64242911",
   "metadata": {},
   "outputs": [],
   "source": [
    "data['type'].value_counts()[:50]"
   ]
  },
  {
   "cell_type": "code",
   "execution_count": null,
   "id": "3db183c3",
   "metadata": {},
   "outputs": [],
   "source": [
    "data['name'].value_counts()[:50]"
   ]
  },
  {
   "cell_type": "code",
   "execution_count": null,
   "id": "af188652",
   "metadata": {},
   "outputs": [],
   "source": []
  },
  {
   "cell_type": "code",
   "execution_count": null,
   "id": "8485196e",
   "metadata": {},
   "outputs": [],
   "source": []
  },
  {
   "cell_type": "code",
   "execution_count": null,
   "id": "3887d43e",
   "metadata": {},
   "outputs": [],
   "source": [
    "data[['lat','lon']]=data['point'].str.strip('[]{} ').str.replace('\"lat\":','').str.replace('\"lon\":','').str.replace(' ','').str.split(',',n=2, expand=True)\n",
    "data"
   ]
  },
  {
   "cell_type": "code",
   "execution_count": null,
   "id": "8af995dd",
   "metadata": {},
   "outputs": [],
   "source": [
    "data['h3-4']=''\n",
    "data['h3-5']=''\n",
    "data['h3-6']=''\n",
    "data['h3-7']=''\n",
    "data['h3-8']=''\n",
    "data['h3-9']=''\n",
    "data['h3-10']=''\n",
    "\n",
    "\n",
    "data['lat']=pd.to_numeric(data['lat'], downcast='float',errors = 'coerce').fillna(0)\n",
    "data['lon']=pd.to_numeric(data['lon'], downcast='float',errors = 'coerce').fillna(0)\n",
    "\n",
    "\n",
    "\n",
    "\n",
    "def hh3(i):\n",
    "    #print(i)\n",
    "    i['h3-4'] = h3.geo_to_h3(i['lat'], i['lon'], 4)\n",
    "    i['h3-5'] = h3.geo_to_h3(i['lat'], i['lon'], 5)\n",
    "    i['h3-6'] = h3.geo_to_h3(i['lat'], i['lon'], 6)\n",
    "    i['h3-7'] = h3.geo_to_h3(i['lat'], i['lon'], 7)\n",
    "    i['h3-8'] = h3.geo_to_h3(i['lat'], i['lon'], 8)\n",
    "    i['h3-9'] = h3.geo_to_h3(i['lat'], i['lon'], 9)\n",
    "    i['h3-10']= h3.geo_to_h3(i['lat'], i['lon'], 10)\n",
    "    #print('----------')\n",
    "    return i\n",
    "\n",
    "data=data.parallel_apply(hh3,axis=1)\n",
    "\n"
   ]
  },
  {
   "cell_type": "code",
   "execution_count": null,
   "id": "22606260",
   "metadata": {},
   "outputs": [],
   "source": [
    "data"
   ]
  },
  {
   "cell_type": "code",
   "execution_count": null,
   "id": "e16f13a1",
   "metadata": {},
   "outputs": [],
   "source": []
  },
  {
   "cell_type": "code",
   "execution_count": null,
   "id": "573577ee",
   "metadata": {},
   "outputs": [],
   "source": []
  },
  {
   "cell_type": "code",
   "execution_count": null,
   "id": "cced82a1",
   "metadata": {},
   "outputs": [],
   "source": [
    "data.to_pickle('dataH3.pkl')"
   ]
  },
  {
   "cell_type": "code",
   "execution_count": null,
   "id": "861ac71b",
   "metadata": {},
   "outputs": [],
   "source": []
  }
 ],
 "metadata": {
  "kernelspec": {
   "display_name": "Python 3 (ipykernel)",
   "language": "python",
   "name": "python3"
  },
  "language_info": {
   "codemirror_mode": {
    "name": "ipython",
    "version": 3
   },
   "file_extension": ".py",
   "mimetype": "text/x-python",
   "name": "python",
   "nbconvert_exporter": "python",
   "pygments_lexer": "ipython3",
   "version": "3.9.7"
  }
 },
 "nbformat": 4,
 "nbformat_minor": 5
}
